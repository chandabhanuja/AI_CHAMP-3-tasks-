{
 "cells": [
  {
   "cell_type": "code",
   "execution_count": null,
   "metadata": {},
   "outputs": [],
   "source": [
    "import pandas as pd\n",
    "import numpy as np\n",
    "\n",
    "from nltk.corpus import stopwords\n",
    "from nltk.tokenize import word_tokenize\n",
    "from nltk.stem import WordNetLemmatizer\n",
    "from sklearn.feature_extraction.text import CountVectorizer\n"
   ]
  },
  {
   "cell_type": "code",
   "execution_count": null,
   "metadata": {},
   "outputs": [],
   "source": [
    "import nltk\n",
    "nltk.download('all')"
   ]
  },
  {
   "cell_type": "code",
   "execution_count": null,
   "metadata": {
    "scrolled": true
   },
   "outputs": [],
   "source": [
    "data = pd.read_csv(r'C:\\Users\\dell\\Task2output.csv',index_col = 0)\n",
    "print(data.shape)\n",
    "data.head()\n"
   ]
  },
  {
   "cell_type": "code",
   "execution_count": null,
   "metadata": {},
   "outputs": [],
   "source": [
    "import nltk\n",
    "nltk.download('stopwords')\n"
   ]
  },
  {
   "cell_type": "code",
   "execution_count": null,
   "metadata": {},
   "outputs": [],
   "source": [
    "def letters_only(astr):\n",
    "  return astr.isalpha()\n",
    "\n",
    "lemmatizer = WordNetLemmatizer()\n",
    "\n",
    "stop_words = set(stopwords.words('english'))\n",
    "stop_words.add('resume')\n"
   ]
  },
  {
   "cell_type": "code",
   "execution_count": null,
   "metadata": {},
   "outputs": [],
   "source": [
    "def clean_doc(docs):\n",
    "\n",
    "  cleaned_doc = []\n",
    "  for doc in docs:\n",
    "    cleaned_doc.append(\" \".join((lemmatizer.lemmatize(word)).lower()\n",
    "                      for word in doc.split()\n",
    "                      if letters_only(word) and\n",
    "                                not word.lower() in stop_words))\n",
    "    return cleaned_doc"
   ]
  },
  {
   "cell_type": "code",
   "execution_count": 42,
   "metadata": {},
   "outputs": [],
   "source": [
    "text = data['Text']"
   ]
  },
  {
   "cell_type": "code",
   "execution_count": 43,
   "metadata": {},
   "outputs": [],
   "source": [
    "clean_text = clean_doc(text)"
   ]
  },
  {
   "cell_type": "code",
   "execution_count": 46,
   "metadata": {},
   "outputs": [
    {
     "data": {
      "text/plain": [
       "1"
      ]
     },
     "execution_count": 46,
     "metadata": {},
     "output_type": "execute_result"
    }
   ],
   "source": [
    "len(clean_text)"
   ]
  },
  {
   "cell_type": "code",
   "execution_count": 47,
   "metadata": {
    "scrolled": true
   },
   "outputs": [
    {
     "data": {
      "text/plain": [
       "'Resume\\xa0 \\xa0Contact+60 112 696 5717 (Mobile)rajeevaravindnair@gmail.comwww.linkedin.com/in/rajeevaravindnair (LinkedIn)rajeevaravindnair.blogspot.in/(Blog)Top SkillsData Science & AnalyticsPythonPostgreSQLLanguagesEnglishMalayalamCertificationsMachine Learning (StandfordUniversity - Andrew Ng)Python Data Science Toolbox (Part2)ISTQB FoundationIntroduction to Data ScienceIntroduction to Git for Data Science.Honors-AwardsOUTSTANDING INVESTMENTSERVICES – RETAIL CLIENTSGEM Award, Q2 2009Rajeev Aravindakshan NairHiring in Bangalore! Java, ElasticSearch, GraphDB (Neo4J/JanusGraph), Devops (GCP).BengaluruSummaryAt the intersection of Data, Technology, Product & Innovation.ExperienceLifesight2 years 6 monthsHead of ProductsDecember 2019\\xa0-\\xa0Present\\xa0(9 months)SingaporeSenior Product ManagerDecember 2018\\xa0-\\xa0November 2019\\xa0(1 year)SingaporeProduct ManagerMarch 2018\\xa0-\\xa0December 2018\\xa0(10 months)Kuala Lumpur, MalaysiaEbizuBusiness Intelligence AnalystSeptember 2017\\xa0-\\xa0February 2018\\xa0(6 months)Kuala Lumpur, MalaysiaInfosys10 yearsTechnical Business Analyst (With Standard Chartered Global BusinessServices)January 2015\\xa0-\\xa0September 2017\\xa0(2 years 9 months)Kuala Lumpur, MalaysiaConsultant - Project Delivery & Business Analysis.June 2010\\xa0-\\xa0December 2014\\xa0(4 years 7 months)Chennai, Bangalore, Singapore, Malaysia.\\xa0 Page 1 of 2mailto:rajeevaravindnair@gmail.comhttps://www.linkedin.com/in/rajeevaravindnair?jobid=1234&lipi=urn%3Ali%3Apage%3Ad_jobs_easyapply_pdfgenresume%3Bn5cGo%2FOlQ5SfVsihoSvkTA%3D%3D&licu=urn%3Ali%3Acontrol%3Ad_jobs_easyapply_pdfgenresume-v02_profilehttps://www.linkedin.com/in/rajeevaravindnair?jobid=1234&lipi=urn%3Ali%3Apage%3Ad_jobs_easyapply_pdfgenresume%3Bn5cGo%2FOlQ5SfVsihoSvkTA%3D%3D&licu=urn%3Ali%3Acontrol%3Ad_jobs_easyapply_pdfgenresume-v02_profilehttp://rajeevaravindnair.blogspot.in/http://rajeevaravindnair.blogspot.in/\\xa0 \\xa0Software Engineer (Finacle, Product Development, QA/QC )March 2008\\xa0-\\xa0May 2010\\xa0(2 years 3 months)Chennai Area, IndiaSoftware Engineer - TraineeOctober 2007\\xa0-\\xa0March 2008\\xa0(6 months)Mysuru Area, IndiaEducationBirla Institute of Technology and Science, PilaniMaster of Technology - MTech,\\xa0Data Science & EngineeringWorldQuant UniversityMaster of Science - MS,\\xa0Financial EngineeringIndian Institute of Management, CalcuttaExecutive Program for Young Managers,\\xa0Business Administration andManagement, GeneralUniversity of CalicutBachelor of Technology - BTech,\\xa0Electricals and ElectronicsEngineering\\xa0·\\xa0(2003\\xa0-\\xa02007)\\xa0 Page 2 of 2'"
      ]
     },
     "execution_count": 47,
     "metadata": {},
     "output_type": "execute_result"
    }
   ],
   "source": [
    "text[0]"
   ]
  },
  {
   "cell_type": "code",
   "execution_count": 48,
   "metadata": {},
   "outputs": [
    {
     "data": {
      "text/plain": [
       "'skillsdata science analyticspythonpostgresqllanguagesenglishmalayalamcertificationsmachine learning andrew data science toolbox foundationintroduction data scienceintroduction git data investmentservices retail clientsgem aravindakshan nairhiring graphdb devops intersection product year monthshead productsdecember present product managerdecember november managermarch december malaysiaebizubusiness intelligence analystseptember february yearstechnical business analyst standard chartered global september year malaysiaconsultant project delivery business december year page software engineer product may year indiasoftware engineer traineeoctober march indiaeducationbirla institute technology pilanimaster technology data science engineeringworldquant universitymaster science financial engineeringindian institute calcuttaexecutive program young business administration generaluniversity calicutbachelor technology electricals electronicsengineering page'"
      ]
     },
     "execution_count": 48,
     "metadata": {},
     "output_type": "execute_result"
    }
   ],
   "source": [
    "clean_text[0]"
   ]
  },
  {
   "cell_type": "code",
   "execution_count": 70,
   "metadata": {},
   "outputs": [],
   "source": [
    "clean_data = pd.DataFrame(clean_text,columns = ['text'])"
   ]
  },
  {
   "cell_type": "code",
   "execution_count": 71,
   "metadata": {},
   "outputs": [],
   "source": [
    "clean_data.to_csv('clean_data.csv')"
   ]
  },
  {
   "cell_type": "code",
   "execution_count": 72,
   "metadata": {
    "scrolled": false
   },
   "outputs": [
    {
     "data": {
      "text/html": [
       "<div>\n",
       "<style scoped>\n",
       "    .dataframe tbody tr th:only-of-type {\n",
       "        vertical-align: middle;\n",
       "    }\n",
       "\n",
       "    .dataframe tbody tr th {\n",
       "        vertical-align: top;\n",
       "    }\n",
       "\n",
       "    .dataframe thead th {\n",
       "        text-align: right;\n",
       "    }\n",
       "</style>\n",
       "<table border=\"1\" class=\"dataframe\">\n",
       "  <thead>\n",
       "    <tr style=\"text-align: right;\">\n",
       "      <th></th>\n",
       "      <th>Text</th>\n",
       "    </tr>\n",
       "  </thead>\n",
       "  <tbody>\n",
       "    <tr>\n",
       "      <th>0</th>\n",
       "      <td>Resume   Contact+60 112 696 5717 (Mobile)rajee...</td>\n",
       "    </tr>\n",
       "    <tr>\n",
       "      <th>1</th>\n",
       "      <td>Resume   Contactwww.linkedin.com/in/syeda-dara...</td>\n",
       "    </tr>\n",
       "    <tr>\n",
       "      <th>2</th>\n",
       "      <td>Resume   Contactwww.linkedin.com/in/tukrishna(...</td>\n",
       "    </tr>\n",
       "    <tr>\n",
       "      <th>3</th>\n",
       "      <td>Resume   Contactbiswas.manali8@gmail.comwww.li...</td>\n",
       "    </tr>\n",
       "    <tr>\n",
       "      <th>4</th>\n",
       "      <td>Resume   Contactrahulakkenapally@gmail.comwww....</td>\n",
       "    </tr>\n",
       "  </tbody>\n",
       "</table>\n",
       "</div>"
      ],
      "text/plain": [
       "                                                Text\n",
       "0  Resume   Contact+60 112 696 5717 (Mobile)rajee...\n",
       "1  Resume   Contactwww.linkedin.com/in/syeda-dara...\n",
       "2  Resume   Contactwww.linkedin.com/in/tukrishna(...\n",
       "3  Resume   Contactbiswas.manali8@gmail.comwww.li...\n",
       "4  Resume   Contactrahulakkenapally@gmail.comwww...."
      ]
     },
     "execution_count": 72,
     "metadata": {},
     "output_type": "execute_result"
    }
   ],
   "source": [
    "data.head()"
   ]
  },
  {
   "cell_type": "code",
   "execution_count": 56,
   "metadata": {},
   "outputs": [
    {
     "name": "stdout",
     "output_type": "stream",
     "text": [
      "['skillsdata science analyticspythonpostgresqllanguagesenglishmalayalamcertificationsmachine learning andrew data science toolbox foundationintroduction data scienceintroduction git data investmentservices retail clientsgem aravindakshan nairhiring graphdb devops intersection product year monthshead productsdecember present product managerdecember november managermarch december malaysiaebizubusiness intelligence analystseptember february yearstechnical business analyst standard chartered global september year malaysiaconsultant project delivery business december year page software engineer product may year indiasoftware engineer traineeoctober march indiaeducationbirla institute technology pilanimaster technology data science engineeringworldquant universitymaster science financial engineeringindian institute calcuttaexecutive program young business administration generaluniversity calicutbachelor technology electricals electronicsengineering page']\n"
     ]
    }
   ],
   "source": [
    "print(clean_text)"
   ]
  },
  {
   "cell_type": "code",
   "execution_count": 58,
   "metadata": {},
   "outputs": [
    {
     "data": {
      "text/plain": [
       "50"
      ]
     },
     "execution_count": 58,
     "metadata": {},
     "output_type": "execute_result"
    }
   ],
   "source": [
    "len(text)"
   ]
  },
  {
   "cell_type": "code",
   "execution_count": 73,
   "metadata": {
    "scrolled": true
   },
   "outputs": [
    {
     "data": {
      "text/html": [
       "<div>\n",
       "<style scoped>\n",
       "    .dataframe tbody tr th:only-of-type {\n",
       "        vertical-align: middle;\n",
       "    }\n",
       "\n",
       "    .dataframe tbody tr th {\n",
       "        vertical-align: top;\n",
       "    }\n",
       "\n",
       "    .dataframe thead th {\n",
       "        text-align: right;\n",
       "    }\n",
       "</style>\n",
       "<table border=\"1\" class=\"dataframe\">\n",
       "  <thead>\n",
       "    <tr style=\"text-align: right;\">\n",
       "      <th></th>\n",
       "      <th>text</th>\n",
       "    </tr>\n",
       "  </thead>\n",
       "  <tbody>\n",
       "    <tr>\n",
       "      <th>0</th>\n",
       "      <td>skillsdata science analyticspythonpostgresqlla...</td>\n",
       "    </tr>\n",
       "    <tr>\n",
       "      <th>1</th>\n",
       "      <td>skillspython learninglanguagesurdu certified p...</td>\n",
       "    </tr>\n",
       "    <tr>\n",
       "      <th>2</th>\n",
       "      <td>skillspmpprogram managementproduct managementl...</td>\n",
       "    </tr>\n",
       "    <tr>\n",
       "      <th>3</th>\n",
       "      <td>structuresweb developmentlanguagesbengali web ...</td>\n",
       "    </tr>\n",
       "    <tr>\n",
       "      <th>4</th>\n",
       "      <td>skillsmicrosoft officeleadershipresearchrahul ...</td>\n",
       "    </tr>\n",
       "  </tbody>\n",
       "</table>\n",
       "</div>"
      ],
      "text/plain": [
       "                                                text\n",
       "0  skillsdata science analyticspythonpostgresqlla...\n",
       "1  skillspython learninglanguagesurdu certified p...\n",
       "2  skillspmpprogram managementproduct managementl...\n",
       "3  structuresweb developmentlanguagesbengali web ...\n",
       "4  skillsmicrosoft officeleadershipresearchrahul ..."
      ]
     },
     "execution_count": 73,
     "metadata": {},
     "output_type": "execute_result"
    }
   ],
   "source": [
    "clean_data.head()"
   ]
  },
  {
   "cell_type": "code",
   "execution_count": 75,
   "metadata": {},
   "outputs": [
    {
     "data": {
      "text/plain": [
       "(50, 1)"
      ]
     },
     "execution_count": 75,
     "metadata": {},
     "output_type": "execute_result"
    }
   ],
   "source": [
    "clean_data.shape"
   ]
  },
  {
   "cell_type": "code",
   "execution_count": null,
   "metadata": {},
   "outputs": [],
   "source": []
  }
 ],
 "metadata": {
  "kernelspec": {
   "display_name": "Python 3",
   "language": "python",
   "name": "python3"
  },
  "language_info": {
   "codemirror_mode": {
    "name": "ipython",
    "version": 3
   },
   "file_extension": ".py",
   "mimetype": "text/x-python",
   "name": "python",
   "nbconvert_exporter": "python",
   "pygments_lexer": "ipython3",
   "version": "3.7.6"
  }
 },
 "nbformat": 4,
 "nbformat_minor": 4
}
